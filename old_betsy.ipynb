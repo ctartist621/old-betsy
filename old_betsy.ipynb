{
  "cells": [
    {
      "cell_type": "markdown",
      "metadata": {
        "id": "view-in-github",
        "colab_type": "text"
      },
      "source": [
        "<a href=\"https://colab.research.google.com/github/ctartist621/old-betsy/blob/develop/old_betsy.ipynb\" target=\"_parent\"><img src=\"https://colab.research.google.com/assets/colab-badge.svg\" alt=\"Open In Colab\"/></a>"
      ]
    },
    {
      "cell_type": "markdown",
      "metadata": {
        "id": "LNgoCXRiDj2j"
      },
      "source": [
        "The goal is for the model to take:\n",
        "\n",
        "1) Time\n",
        "2) Transmit Grid Square\n",
        "\n",
        "Output:\n",
        "1) Most likely Grid Squares to contact\n",
        "2) Which band to use\n",
        "3) Which Mode to use\n",
        "\n",
        "Label is: db"
      ]
    },
    {
      "cell_type": "code",
      "source": [
        "!pip install matplotlib>=3.5.1\n",
        "!pip install torch>=1.11.0\n",
        "!pip install torchtext>=0.12.0\n",
        "!pip install pandas>=1.3.5\n",
        "!pip install numpy>=1.21.0"
      ],
      "metadata": {
        "id": "xH8foKEeD0jK"
      },
      "execution_count": 1,
      "outputs": []
    },
    {
      "cell_type": "code",
      "execution_count": 4,
      "metadata": {
        "id": "ISkDcovwDj2m"
      },
      "outputs": [],
      "source": [
        "from google.colab import drive\n",
        "from google.colab import drive\n",
        "import pandas as pd\n",
        "import matplotlib.pyplot as plt\n",
        "import numpy as np\n",
        "import os\n",
        "import torch\n",
        "from torch import nn\n",
        "from torch.utils.data import Dataset, DataLoader\n",
        "from torch.utils.data import DataLoader\n",
        "from torchtext.transforms import LabelToIndex\n",
        "from typing import List\n"
      ]
    },
    {
      "cell_type": "code",
      "execution_count": 5,
      "metadata": {
        "id": "lP8MkYhcDj2r",
        "outputId": "1c61193d-f4b3-4c80-b156-18d3710c96a7",
        "colab": {
          "base_uri": "https://localhost:8080/"
        }
      },
      "outputs": [
        {
          "output_type": "stream",
          "name": "stdout",
          "text": [
            "Using cuda device\n"
          ]
        }
      ],
      "source": [
        "device = \"cuda\" if torch.cuda.is_available() else \"cpu\"\n",
        "print(f\"Using {device} device\")"
      ]
    },
    {
      "cell_type": "code",
      "source": [
        "drive.mount('/content/drive')\n"
      ],
      "metadata": {
        "id": "qg43J5JqF9c3",
        "outputId": "cde1f4fa-322e-4e5e-9b03-5c4e9fe29e11",
        "colab": {
          "base_uri": "https://localhost:8080/"
        }
      },
      "execution_count": 6,
      "outputs": [
        {
          "output_type": "stream",
          "name": "stdout",
          "text": [
            "Drive already mounted at /content/drive; to attempt to forcibly remount, call drive.mount(\"/content/drive\", force_remount=True).\n"
          ]
        }
      ]
    },
    {
      "cell_type": "code",
      "execution_count": 7,
      "metadata": {
        "id": "bLC9d0gwDj2n"
      },
      "outputs": [],
      "source": [
        "class DXDataset(Dataset):\n",
        "    def __init__(self, file):\n",
        "        self.data = pd.read_csv(file)\n",
        "\n",
        "        # self.data = self.data.sample(frac=0.001)\n",
        "        self.labels = self.data['callsign_grid'].unique()\n",
        "\n",
        "        self.target_labels = {\n",
        "            'dx_grid': self.data['dx_grid'].unique(),\n",
        "            'band': self.data['band'].unique(),\n",
        "            'mode': self.data['mode'].unique(),\n",
        "            'tx_mode': self.data['tx_mode'].unique(),\n",
        "        }\n",
        "\n",
        "        self.transform = LabelToIndex(label_names=self.labels.tolist())\n",
        "        self.target_transforms = {\n",
        "            'dx_grid': LabelToIndex(label_names=self.target_labels['dx_grid'].tolist()),\n",
        "            'band': LabelToIndex(label_names=self.target_labels['band'].tolist()),\n",
        "            'mode': LabelToIndex(label_names=self.target_labels['mode'].tolist()),\n",
        "            'tx_mode': LabelToIndex(label_names=self.target_labels['tx_mode'].tolist()),\n",
        "        }\n",
        "\n",
        "    def __len__(self):\n",
        "        return len(self.data)\n",
        "\n",
        "    def __getitem__(self, idx):\n",
        "        data = self.data.iloc[idx].drop([\"Unnamed: 0\", \"snr\",'dx_grid','band','mode', 'tx_mode'])\n",
        "        label = self.data.iloc[idx]\n",
        "\n",
        "        data['callsign_grid'] = self.transform.forward(data['callsign_grid'])\n",
        "        data = torch.FloatTensor(data)\n",
        "        label = torch.FloatTensor([\n",
        "            self.target_transforms['dx_grid'].forward(label['dx_grid']),\n",
        "            self.target_transforms['band'].forward(label['band']),\n",
        "            self.target_transforms['mode'].forward(label['mode']),\n",
        "            self.target_transforms['tx_mode'].forward(label['tx_mode']),\n",
        "        ])\n",
        "        return data, label"
      ]
    },
    {
      "cell_type": "code",
      "execution_count": 10,
      "metadata": {
        "id": "B1gMZUGzDj2o",
        "outputId": "d4841ac0-69b8-48f0-be94-ad26467d27b1",
        "colab": {
          "base_uri": "https://localhost:8080/"
        }
      },
      "outputs": [
        {
          "output_type": "stream",
          "name": "stdout",
          "text": [
            "285077 71723\n"
          ]
        }
      ],
      "source": [
        "training_data = DXDataset(\"/content/drive/Othercomputers/My MacBook Pro/old-betsy-data/train.csv\")\n",
        "test_data = DXDataset(\"/content/drive/Othercomputers/My MacBook Pro/old-betsy-data/test.csv\")\n",
        "print(len(training_data), len(test_data))"
      ]
    },
    {
      "cell_type": "code",
      "execution_count": 11,
      "metadata": {
        "id": "7td6NjECDj2p",
        "outputId": "2482e724-b7da-44ee-8365-151178f531c6",
        "colab": {
          "base_uri": "https://localhost:8080/"
        }
      },
      "outputs": [
        {
          "output_type": "execute_result",
          "data": {
            "text/plain": [
              "tensor([44.,  2.,  0.,  0.])"
            ]
          },
          "metadata": {},
          "execution_count": 11
        }
      ],
      "source": [
        "data, label = training_data.__getitem__(300)\n",
        "label"
      ]
    },
    {
      "cell_type": "code",
      "execution_count": 12,
      "metadata": {
        "id": "yyzwrNHtDj2q"
      },
      "outputs": [],
      "source": [
        "train_dataloader = DataLoader(training_data, batch_size=64, shuffle=True)\n",
        "test_dataloader = DataLoader(test_data, batch_size=64, shuffle=True)"
      ]
    },
    {
      "cell_type": "code",
      "execution_count": 13,
      "metadata": {
        "id": "3e_mk0-VDj2q",
        "outputId": "1b11781b-86b8-4ba8-955b-5cc5d6668b53",
        "colab": {
          "base_uri": "https://localhost:8080/"
        }
      },
      "outputs": [
        {
          "output_type": "execute_result",
          "data": {
            "text/plain": [
              "tensor([[14., -1., -1.,  ...,  5., 42., 16.],\n",
              "        [27., -1., -1.,  ..., 19., 49., 55.],\n",
              "        [34., -1., -1.,  ..., 11., 53.,  1.],\n",
              "        ...,\n",
              "        [29., -1., -1.,  ..., 15., 16.,  1.],\n",
              "        [29., -1., -1.,  ..., 17.,  4.,  9.],\n",
              "        [ 8., -1., -1.,  ...,  6., 35., 49.]])"
            ]
          },
          "metadata": {},
          "execution_count": 13
        }
      ],
      "source": [
        "train_features, train_labels = next(iter(train_dataloader))\n",
        "train_features"
      ]
    },
    {
      "cell_type": "code",
      "execution_count": 14,
      "metadata": {
        "id": "Ta7GEo9kDj2r",
        "outputId": "b992083a-b467-4b53-8b41-067e0ae5ae21",
        "colab": {
          "base_uri": "https://localhost:8080/",
          "height": 317
        }
      },
      "outputs": [
        {
          "output_type": "stream",
          "name": "stdout",
          "text": [
            "Feature batch shape: torch.Size([64, 51])\n",
            "Labels batch shape: torch.Size([64, 4])\n"
          ]
        },
        {
          "output_type": "display_data",
          "data": {
            "text/plain": [
              "<Figure size 432x288 with 1 Axes>"
            ],
            "image/png": "[encoded data removed]"
          },
          "metadata": {
            "needs_background": "light"
          }
        },
        {
          "output_type": "stream",
          "name": "stdout",
          "text": [
            "Label: tensor([1043.,    3.,    0.,    0.])\n"
          ]
        }
      ],
      "source": [
        "train_features, train_labels = next(iter(train_dataloader))\n",
        "print(f\"Feature batch shape: {train_features.size()}\")\n",
        "print(f\"Labels batch shape: {train_labels.size()}\")\n",
        "input = train_features[0]\n",
        "label = train_labels[0]\n",
        "plt.plot(input)\n",
        "plt.show()\n",
        "print(f\"Label: {label}\")"
      ]
    },
    {
      "cell_type": "code",
      "execution_count": 15,
      "metadata": {
        "id": "MJULV3PBDj2s"
      },
      "outputs": [],
      "source": [
        "class NeuralNetwork(nn.Module):\n",
        "    def __init__(self):\n",
        "        super(NeuralNetwork, self).__init__()\n",
        "        self.flatten = nn.Flatten()\n",
        "        self.linear_relu_stack = nn.Sequential(\n",
        "            nn.Linear(len(training_data.__getitem__(0)[0]), 512),\n",
        "            nn.ReLU(),\n",
        "            nn.Linear(512, 512),\n",
        "            nn.ReLU(),\n",
        "            nn.Linear(512, len(training_data.__getitem__(0)[1])),\n",
        "        )\n",
        "\n",
        "    def forward(self, x):\n",
        "        x = self.flatten(x)\n",
        "        logits = self.linear_relu_stack(x)\n",
        "        return logits\n",
        "\n",
        "model = NeuralNetwork()"
      ]
    },
    {
      "cell_type": "markdown",
      "metadata": {
        "id": "M_55TtQtDj2s"
      },
      "source": [
        ""
      ]
    },
    {
      "cell_type": "code",
      "execution_count": 16,
      "metadata": {
        "id": "Atd1ju5ZDj2t"
      },
      "outputs": [],
      "source": [
        "learning_rate = 1e-3\n",
        "batch_size = 64\n",
        "epochs = 5"
      ]
    },
    {
      "cell_type": "code",
      "source": [
        "model.to(device)"
      ],
      "metadata": {
        "id": "kQReDFYlKun8",
        "outputId": "d511d6ad-f0b0-4be1-c0e4-f6deb0310f76",
        "colab": {
          "base_uri": "https://localhost:8080/"
        }
      },
      "execution_count": 20,
      "outputs": [
        {
          "output_type": "execute_result",
          "data": {
            "text/plain": [
              "NeuralNetwork(\n",
              "  (flatten): Flatten(start_dim=1, end_dim=-1)\n",
              "  (linear_relu_stack): Sequential(\n",
              "    (0): Linear(in_features=51, out_features=512, bias=True)\n",
              "    (1): ReLU()\n",
              "    (2): Linear(in_features=512, out_features=512, bias=True)\n",
              "    (3): ReLU()\n",
              "    (4): Linear(in_features=512, out_features=4, bias=True)\n",
              "  )\n",
              ")"
            ]
          },
          "metadata": {},
          "execution_count": 20
        }
      ]
    },
    {
      "cell_type": "code",
      "execution_count": 28,
      "metadata": {
        "id": "QPmVX95PDj2t"
      },
      "outputs": [],
      "source": [
        "def train_loop(dataloader, model, loss_fn, optimizer):\n",
        "    size = len(dataloader.dataset)\n",
        "    for batch, (X, y) in enumerate(dataloader):\n",
        "        # Compute prediction and loss\n",
        "        X.to(device)\n",
        "        y.to(device)\n",
        "        pred = model(X)\n",
        "        loss = loss_fn(pred, y)\n",
        "\n",
        "        # Backpropagation\n",
        "        optimizer.zero_grad()\n",
        "        loss.backward()\n",
        "        optimizer.step()\n",
        "\n",
        "        if batch % 100 == 0:\n",
        "            loss, current = loss.item(), batch * len(X)\n",
        "            print(f\"loss: {loss:>7f}  [{current:>5d}/{size:>5d}]\")"
      ]
    },
    {
      "cell_type": "code",
      "execution_count": 31,
      "metadata": {
        "id": "xNsMgmFtDj2t"
      },
      "outputs": [],
      "source": [
        "def test_loop(dataloader, model, loss_fn):\n",
        "    size = len(dataloader.dataset)\n",
        "    num_batches = len(dataloader)\n",
        "    test_loss, correct = 0, 0\n",
        "\n",
        "    with torch.no_grad():\n",
        "        for X, y in dataloader:\n",
        "            X.to(device)\n",
        "            y.to(device)\n",
        "            pred = model(X)\n",
        "            test_loss += loss_fn(pred, y).item()\n",
        "            item_check = (pred.argmax(dim=0) == y)\n",
        "\n",
        "            correct += (pred.argmax(dim=0) == y).type(torch.float).sum().item()\n",
        "\n",
        "    test_loss /= num_batches\n",
        "    correct /= (size * y.numel())\n",
        "    print(f\"Test Error: \\n Accuracy: {(100*correct):>0.1f}%, Avg loss: {test_loss:>8f} \\n\")"
      ]
    },
    {
      "cell_type": "code",
      "execution_count": null,
      "metadata": {
        "id": "xIktASUODj2u",
        "outputId": "194f35eb-934e-4df1-f4ff-69e5ea003cad",
        "colab": {
          "base_uri": "https://localhost:8080/"
        }
      },
      "outputs": [
        {
          "output_type": "stream",
          "name": "stdout",
          "text": [
            "Epoch 1\n",
            "-------------------------------\n",
            "loss: 29.583061  [    0/285077]\n",
            "loss: 46.565880  [ 6400/285077]\n",
            "loss: 21.332752  [12800/285077]\n",
            "loss: 31.455881  [19200/285077]\n",
            "loss: 36.284801  [25600/285077]\n",
            "loss: 28.492590  [32000/285077]\n",
            "loss: 46.040718  [38400/285077]\n",
            "loss: 32.421875  [44800/285077]\n",
            "loss: 29.235962  [51200/285077]\n"
          ]
        }
      ],
      "source": [
        "loss_fn = nn.CrossEntropyLoss()\n",
        "optimizer = torch.optim.SGD(model.parameters(), lr=learning_rate)\n",
        "\n",
        "epochs = 10\n",
        "for t in range(epochs):\n",
        "    print(f\"Epoch {t+1}\\n-------------------------------\")\n",
        "    train_loop(train_dataloader, model, loss_fn, optimizer)\n",
        "    test_loop(test_dataloader, model, loss_fn)\n",
        "print(\"Done!\")"
      ]
    },
    {
      "cell_type": "code",
      "execution_count": null,
      "metadata": {
        "id": "LA8zWZnpDj2u"
      },
      "outputs": [],
      "source": [
        "test_loop(test_dataloader, model, loss_fn)\n"
      ]
    }
  ],
  "metadata": {
    "interpreter": {
      "hash": "23bae617c2fd34ee163a70eb68c606bb45cef6dd4a4adb773de7f513ccf39765"
    },
    "kernelspec": {
      "display_name": "Python 3.10.2 ('old-betsy')",
      "language": "python",
      "name": "python3"
    },
    "language_info": {
      "codemirror_mode": {
        "name": "ipython",
        "version": 3
      },
      "file_extension": ".py",
      "mimetype": "text/x-python",
      "name": "python",
      "nbconvert_exporter": "python",
      "pygments_lexer": "ipython3",
      "version": "3.10.2"
    },
    "orig_nbformat": 4,
    "colab": {
      "name": "old_betsy.ipynb",
      "provenance": [],
      "include_colab_link": true
    },
    "accelerator": "GPU"
  },
  "nbformat": 4,
  "nbformat_minor": 0
}