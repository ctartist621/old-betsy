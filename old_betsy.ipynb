{
 "cells": [
  {
   "cell_type": "code",
   "execution_count": 2,
   "metadata": {},
   "outputs": [],
   "source": [
    "import dask.dataframe as ddf\n",
    "import pandas as pd"
   ]
  },
  {
   "cell_type": "code",
   "execution_count": 3,
   "metadata": {},
   "outputs": [],
   "source": [
    "spots_df = ddf.read_csv(\n",
    "    \"/Users/dave/code/contact_genie/data/reverse_beacon_network/*.csv\"\n",
    ")\n"
   ]
  },
  {
   "cell_type": "code",
   "execution_count": 4,
   "metadata": {},
   "outputs": [],
   "source": [
    "spot_pd = pd.read_csv(\n",
    "    \"/Users/dave/code/contact_genie/data/reverse_beacon_network/20220101.csv\"\n",
    ")"
   ]
  },
  {
   "cell_type": "code",
   "execution_count": 16,
   "metadata": {},
   "outputs": [
    {
     "name": "stdout",
     "output_type": "stream",
     "text": [
      ":Product: Geomagnetic Data             202201AK.txt\n",
      "\n",
      ":Issued: 1640 UTC 28 Feb 2022\n",
      "\n",
      "#\n",
      "\n",
      "# Prepared by the U.S. Dept. of Commerce, NOAA, Space Weather Prediction Center\n",
      "\n",
      "# Please send comments and suggestions to SWPC.Webmaster@noaa.gov \n",
      "\n",
      "# Updated daily. Values are shown as reported, SEC does not verify accuracy.\n",
      "\n",
      "# Missing Data: -1\n",
      "\n",
      "#\n",
      "\n",
      "#      Geomagnetic A and K indices from the U.S. Geological Survey Stations\n",
      "\n",
      "#\n",
      "\n",
      "#               Geomagnetic\n",
      "\n",
      "#                 Dipole     A   ------------- 3 Hourly K Indices --------------\n",
      "\n",
      "# Station        Lat Long  Index 00-03 03-06 06-09 09-12 12-15 15-18 18-21 21-24\n",
      "\n",
      "#-------------------------------------------------------------------------------\n",
      "\n"
     ]
    }
   ],
   "source": [
    "file = \"/Users/dave/code/contact_genie/data/SWPC/AK_values/202201AK.txt\"\n",
    "\n",
    "with open(file) as f:\n",
    "    line = f.readline()\n",
    "    cnt = 0\n",
    "    while line.startswith('#') or line.startswith(':'):\n",
    "        prev_line = line\n",
    "        line = f.readline()\n",
    "        cnt += 1\n",
    "        print(prev_line)\n",
    "        \n",
    "    print = f.readline()    \n",
    "    # header = prev_line.strip().lstrip('# ').split()\n",
    "\n",
    "    # df = pd.read_csv(file, delimiter=\"\\s+\",\n",
    "    #                 names=header,\n",
    "    #                 skiprows=cnt\n",
    "    #         )\n",
    "\n"
   ]
  },
  {
   "cell_type": "code",
   "execution_count": null,
   "metadata": {},
   "outputs": [],
   "source": []
  }
 ],
 "metadata": {
  "interpreter": {
   "hash": "1ece51dd7ebc656bec0905a31bd25176633551382fd095b0fd98e58394ba91a8"
  },
  "kernelspec": {
   "display_name": "Python 3.9.10 ('old-betsy')",
   "language": "python",
   "name": "python3"
  },
  "language_info": {
   "codemirror_mode": {
    "name": "ipython",
    "version": 3
   },
   "file_extension": ".py",
   "mimetype": "text/x-python",
   "name": "python",
   "nbconvert_exporter": "python",
   "pygments_lexer": "ipython3",
   "version": "3.9.10"
  },
  "orig_nbformat": 4
 },
 "nbformat": 4,
 "nbformat_minor": 2
}
