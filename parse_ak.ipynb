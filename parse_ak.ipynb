{
 "cells": [
  {
   "cell_type": "code",
   "execution_count": 43,
   "metadata": {},
   "outputs": [],
   "source": [
    "import pandas as pd\n",
    "import re\n",
    "from datetime import datetime, timedelta\n",
    "import os\n",
    "import pathlib"
   ]
  },
  {
   "cell_type": "code",
   "execution_count": 60,
   "metadata": {},
   "outputs": [],
   "source": [
    "def convert_file(directory, file):\n",
    "    rows = []\n",
    "\n",
    "    with open(directory + file) as f:\n",
    "        next_line = f.readline()\n",
    "        while next_line:\n",
    "            line = next_line\n",
    "\n",
    "            pattern = re.compile(\"\\d+\")\n",
    "\n",
    "\n",
    "            if re.match(pattern, line):\n",
    "                line = line.strip()\n",
    "                try:\n",
    "                    date = datetime.strptime(line, \"%Y %b %d\")\n",
    "                except:\n",
    "                    Exception(\"Error parsing date: \", line)\n",
    "                    exit(1)\n",
    "\n",
    "            pattern = re.compile(\"[A-Z]+\")\n",
    "\n",
    "            if \"date\" in locals() and re.match(pattern, line):\n",
    "                line = line.strip()\n",
    "\n",
    "                #Parse with lat / long\n",
    "                pattern = re.compile(\"[NS][0-9\\-]\")\n",
    "                match = re.search(pattern, line)\n",
    "\n",
    "                if match:\n",
    "                    station = line[:match.span()[0]].strip()\n",
    "                    line = line[match.span()[0]:]\n",
    "\n",
    "                    lat_pattern = re.compile(\"[NS][0-9\\-\\s]{2}\")\n",
    "                    match = re.search(lat_pattern, line)\n",
    "                    lat = line[match.span()[0]:match.span()[1]].strip()\n",
    "                    line = line.replace(lat, \"\")\n",
    "\n",
    "                    long_pattern = re.compile(\"[EW][0-9\\-\\s]{3}\")\n",
    "                    match = re.search(long_pattern, line)\n",
    "                    long = line[match.span()[0]:match.span()[1]].strip()\n",
    "                    line = line.replace(long, \"\")\n",
    "\n",
    "                    indices = line.split()\n",
    "\n",
    "                    lat = lat.replace(\"N\", \"\")\n",
    "                    lat = lat.replace(\"S\", \"-\")\n",
    "\n",
    "                    long = long.replace(\"E\", \"\")\n",
    "                    long = long.replace(\"W\", \"-\")\n",
    "                    long = long.replace(\" \", \"\")\n",
    "\n",
    "                    \n",
    "                #Parse without lat / long\n",
    "                else:\n",
    "                    pattern = re.compile(\"[0-9\\-]\")\n",
    "                    match = re.search(pattern, line)\n",
    "                    station = line[:match.span()[0]].strip()\n",
    "                    line = line.replace(station, \"\")\n",
    "\n",
    "                    indices = line.split()\n",
    "\n",
    "                a_index = indices[0]\n",
    "\n",
    "                for i in range(1,len(indices)):\n",
    "                    row = {\n",
    "                        'station': station,\n",
    "                        'geomagnetic_dipole_lat': lat,\n",
    "                        'geomagnetic_dipole_long': long,\n",
    "                        'start_time': date + timedelta(hours = 3 * i),\n",
    "                        'end_time': date + timedelta(hours = 3 * (i + 1)),\n",
    "                        'A_index': a_index,\n",
    "                        'K_index': indices[i],\n",
    "                    }\n",
    "\n",
    "                    rows.append(row)\n",
    "                \n",
    "\n",
    "            next_line = f.readline()\n",
    "\n",
    "    df = pd.DataFrame(rows, columns = [\n",
    "        'station',\n",
    "        'geomagnetic_dipole_lat',\n",
    "        'geomagnetic_dipole_long',\n",
    "        'start_time',\n",
    "        'end_time',\n",
    "        'A_index',\n",
    "        'K_index',\n",
    "        ],\n",
    "        # dtype=[\n",
    "        # ('station', \"str\"),\n",
    "        # ('geomagnetic_dipole_lat', \"int8\"),\n",
    "        # ('geomagnetic_dipole_long', \"int8\"),\n",
    "        # ('start_time', \"datetime64\"),\n",
    "        # ('end_time', \"datetime64\"),\n",
    "        # ('A_index', \"int8\"),\n",
    "        # ('K_index', \"int8\"),\n",
    "        # ]\n",
    "    )\n",
    "    os.makedirs(f\"{directory}/prepped/\", exist_ok=True)\n",
    "    df.to_csv(f\"{directory}/prepped/{pathlib.Path(file).stem}.csv\", index=False)"
   ]
  },
  {
   "cell_type": "code",
   "execution_count": 61,
   "metadata": {},
   "outputs": [
    {
     "name": "stdout",
     "output_type": "stream",
     "text": [
      "/Users/dave/code/old-betsy/data/SWPC/AK_values/202201AK.txt\n",
      "202201AK\n"
     ]
    }
   ],
   "source": [
    "file = \"/Users/dave/code/old-betsy/data/SWPC/AK_values/202201AK.txt\"\n",
    "\n",
    "directory=\"/Users/dave/code/old-betsy/data/SWPC/AK_values/\"\n",
    "\n",
    "for file in os.listdir(directory):\n",
    "    if pathlib.Path(file).suffix == \".txt\":\n",
    "        print(directory+file)\n",
    "        print(pathlib.Path(directory+file).stem)\n",
    "        convert_file(directory, file)\n",
    "\n"
   ]
  },
  {
   "cell_type": "code",
   "execution_count": null,
   "metadata": {},
   "outputs": [],
   "source": [
    "df.dtypes"
   ]
  },
  {
   "cell_type": "code",
   "execution_count": null,
   "metadata": {},
   "outputs": [],
   "source": []
  }
 ],
 "metadata": {
  "interpreter": {
   "hash": "1ece51dd7ebc656bec0905a31bd25176633551382fd095b0fd98e58394ba91a8"
  },
  "kernelspec": {
   "display_name": "Python 3.9.10 ('old-betsy')",
   "language": "python",
   "name": "python3"
  },
  "language_info": {
   "codemirror_mode": {
    "name": "ipython",
    "version": 3
   },
   "file_extension": ".py",
   "mimetype": "text/x-python",
   "name": "python",
   "nbconvert_exporter": "python",
   "pygments_lexer": "ipython3",
   "version": "3.10.2"
  },
  "orig_nbformat": 4
 },
 "nbformat": 4,
 "nbformat_minor": 2
}
