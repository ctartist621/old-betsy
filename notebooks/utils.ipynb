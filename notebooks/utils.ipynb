{
 "cells": [
  {
   "cell_type": "code",
   "execution_count": 33,
   "metadata": {},
   "outputs": [
    {
     "data": {
      "text/plain": [
       "True"
      ]
     },
     "execution_count": 33,
     "metadata": {},
     "output_type": "execute_result"
    }
   ],
   "source": [
    "def coordinates_to_grid(lat: float, lon: float) -> str:\n",
    "    \"\"\"\n",
    "    Geo Coordinates to Grid\n",
    "    http://www.newsvhf.com/my-grid.html\n",
    "\n",
    "    Parameters\n",
    "    ----------\n",
    "    lat : float\n",
    "        Latitude\n",
    "    lon : float\n",
    "        Longitude\n",
    "\n",
    "    Returns\n",
    "    -------\n",
    "    str\n",
    "        Maidenhead Grid Square\n",
    "    \"\"\"\n",
    "    lookup = \"ABCDEFGHIJKLMNOPQRSTUVWXYZ\"\n",
    "\n",
    "    mod_lon = lon + 180\n",
    "    mod_lat = lat + 90\n",
    "\n",
    "    p1_lon = lookup[int(mod_lon // 20)]\n",
    "    p1_lat = lookup[int(mod_lat // 10)]\n",
    "\n",
    "    p1_lon_rem = mod_lon % 20\n",
    "    p1_lat_rem = mod_lat % 10\n",
    "    \n",
    "    p2_lon = str(int(p1_lon_rem // 2))\n",
    "    p2_lat = str(int(p1_lat_rem // 1))\n",
    "\n",
    "    p2_lon_rem = p1_lon_rem % 2\n",
    "    p2_lat_rem = p1_lat_rem % 1\n",
    "\n",
    "    p3_lon = lookup[int(p2_lon_rem // 0.083333)].lower()\n",
    "    p3_lat = lookup[int(p2_lat_rem // 0.0416665)].lower()\n",
    "\n",
    "    p3_lon_rem = p2_lon_rem % 0.083333\n",
    "    p3_lat_rem = p2_lat_rem % 0.0416665\n",
    "    \n",
    "    p4_lon = str(int(p3_lon_rem // 0.008333))\n",
    "    p4_lat = str(int(p3_lat_rem // 0.004166))\n",
    "\n",
    "    return p1_lon+p1_lat+p2_lon+p2_lat+p3_lon+p3_lat+p4_lon+p4_lat\n",
    "\n",
    "coordinates_to_grid(42.664048, -71.661962) == \"FN42ep09\""
   ]
  },
  {
   "cell_type": "code",
   "execution_count": 49,
   "metadata": {},
   "outputs": [
    {
     "data": {
      "text/plain": [
       "(-71.333336, 42.62655974375099)"
      ]
     },
     "execution_count": 49,
     "metadata": {},
     "output_type": "execute_result"
    }
   ],
   "source": [
    "def grid_to_coordinates(grid: str) -> tuple[float, float]:\n",
    "    lookup = {\n",
    "        \"A\": 0,\n",
    "        \"B\": 1,\n",
    "        \"C\": 2,\n",
    "        \"D\": 3,\n",
    "        \"E\": 4,\n",
    "        \"F\": 5,\n",
    "        \"G\": 6,\n",
    "        \"H\": 7,\n",
    "        \"I\": 8,\n",
    "        \"J\": 9,\n",
    "        \"K\": 10,\n",
    "        \"L\": 11,\n",
    "        \"M\": 12,\n",
    "        \"N\": 13,\n",
    "        \"O\": 14,\n",
    "        \"P\": 15,\n",
    "        \"Q\": 16,\n",
    "        \"R\": 17,\n",
    "        \"S\": 18,\n",
    "        \"T\": 19,\n",
    "        \"U\": 20,\n",
    "        \"V\": 21,\n",
    "        \"W\": 22,\n",
    "        \"X\": 23,\n",
    "        \"Y\": 24,\n",
    "        \"Z\": 25,\n",
    "    }\n",
    "    p1_lon = lookup[grid[0]]\n",
    "    p1_lat = lookup[grid[1]]\n",
    "    p2_lon = int(grid[2])\n",
    "    p2_lat = int(grid[3])\n",
    "    p3_lon = lookup[grid[4].upper()]\n",
    "    p3_lat = lookup[grid[5].upper()]\n",
    "    p4_lon = int(grid[6])\n",
    "    p4_lat = int(grid[7])\n",
    "    \n",
    "    p3_lon_rem = p4_lon * 0.008333\n",
    "    p3_lat_rem = p4_lat * 0.004166\n",
    "\n",
    "    p2_lon_rem = (p3_lon + p3_lon_rem) * 0.083333\n",
    "    p2_lat_rem = (p3_lat + p3_lat_rem) * 0.0416665\n",
    "\n",
    "    p1_lon_rem = (p2_lon + p2_lon_rem) * 2\n",
    "    p1_lat_rem = (p2_lat + p2_lat_rem) * 1\n",
    "\n",
    "    mod_lon = p1_lon * 20 + p1_lon_rem\n",
    "    mod_lat = p1_lat * 10 + p1_lat_rem\n",
    "\n",
    "    lon = mod_lon - 180\n",
    "    lat = mod_lat - 90\n",
    "\n",
    "    return lon, lat\n",
    "\n",
    "grid_to_coordinates(\"FN42ep09\")"
   ]
  },
  {
   "cell_type": "code",
   "execution_count": null,
   "metadata": {},
   "outputs": [],
   "source": []
  }
 ],
 "metadata": {
  "interpreter": {
   "hash": "23bae617c2fd34ee163a70eb68c606bb45cef6dd4a4adb773de7f513ccf39765"
  },
  "kernelspec": {
   "display_name": "Python 3.10.2 ('old-betsy')",
   "language": "python",
   "name": "python3"
  },
  "language_info": {
   "codemirror_mode": {
    "name": "ipython",
    "version": 3
   },
   "file_extension": ".py",
   "mimetype": "text/x-python",
   "name": "python",
   "nbconvert_exporter": "python",
   "pygments_lexer": "ipython3",
   "version": "3.10.2"
  },
  "orig_nbformat": 4
 },
 "nbformat": 4,
 "nbformat_minor": 2
}
